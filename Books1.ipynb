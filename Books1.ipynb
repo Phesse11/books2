{
 "cells": [
  {
   "cell_type": "code",
   "execution_count": 6,
   "id": "785fc8f1",
   "metadata": {},
   "outputs": [
    {
     "ename": "SyntaxError",
     "evalue": "invalid syntax (3619582668.py, line 17)",
     "output_type": "error",
     "traceback": [
      "\u001b[0;36m  File \u001b[0;32m\"/var/folders/_y/6fg5ypsx1x98zgzfsgftbkth0000gn/T/ipykernel_59266/3619582668.py\"\u001b[0;36m, line \u001b[0;32m17\u001b[0m\n\u001b[0;31m    return (\"book\": \"book data\")\u001b[0m\n\u001b[0m                  ^\u001b[0m\n\u001b[0;31mSyntaxError\u001b[0m\u001b[0;31m:\u001b[0m invalid syntax\n"
     ]
    }
   ],
   "source": [
    "from flask import Flask \n",
    "\n",
    "class Book(db.Model): # the model/class\n",
    "    id = db.Column(db.Integer, primary_key=True) # ID column with attributes \n",
    "    name = db.Column(db.String(80), unique=True, nullable=False) # name coulumn with string \n",
    "    author = db.Column(db.String(80), unique=True, nullable=False) # the author column \n",
    "    publisher = db.Column(db.String(120)) # publisher column \n",
    "\n",
    "    def __repr__(self):\n",
    "        return f\"{self.name} - {self.author} - {self.publisher}\" # returing the string \n",
    "    \n",
    "\n",
    "    app = Flask(__name__)\n",
    "\n",
    "    app.route('/books') # path \n",
    "    def get_books():\n",
    "        books = book.query.all()\n",
    "        output = []\n",
    "        for book in books:\n",
    "            book_date = name {'name': book.name, 'author': book.author, 'publisher': book.publisher}\n",
    "            output.append(book.data)\n",
    "        return {\"book\": \"book data\"} # The Dictionary \n",
    "    app.route('/drinks/<id>')\n",
    "    def get_book(id):\n",
    "        book = book.query.get_or_404(id)\n",
    "        return jsonify((\"name: book.name, author: book.author, publisher: book.publisher\"))\n",
    "    \n",
    "    app,route('/books', method=['POST'])\n",
    "    add_book():\n",
    "    book = book(name-request.json['name'], author=request.json['author'], publisher=request.json['publisher'])\n",
    "\n",
    "db.session.add(book)\n",
    "db.session.commit()\n",
    "return {'id': book.id}\n",
    "\n",
    "    \n",
    "    "
   ]
  },
  {
   "cell_type": "code",
   "execution_count": null,
   "id": "7eee556a",
   "metadata": {},
   "outputs": [],
   "source": []
  }
 ],
 "metadata": {
  "kernelspec": {
   "display_name": "Python 3 (ipykernel)",
   "language": "python",
   "name": "python3"
  },
  "language_info": {
   "codemirror_mode": {
    "name": "ipython",
    "version": 3
   },
   "file_extension": ".py",
   "mimetype": "text/x-python",
   "name": "python",
   "nbconvert_exporter": "python",
   "pygments_lexer": "ipython3",
   "version": "3.9.13"
  }
 },
 "nbformat": 4,
 "nbformat_minor": 5
}
