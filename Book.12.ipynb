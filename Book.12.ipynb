{
 "cells": [
  {
   "cell_type": "code",
   "execution_count": null,
   "id": "71a925b5",
   "metadata": {},
   "outputs": [],
   "source": [
    "app = Flask(__name__)\n",
    "class book(db.Model):\n",
    "    id = db.Column(db.Integer, primary_key=True)\n",
    "    authur = db.Column(db.String(80), db,String(120))\n",
    "    publisher  = db.Column(db.String(80), db,String(120))\n",
    "    book_name = db.Column(db.Integer, primary_key=True, nullable=False)\n",
    "\n",
    "\n",
    "    def __repr__(self):\n",
    "        return f\"{self.name}\" - \n",
    "        return super().__repr__()\n",
    "@app.route9('/'):\n",
    "def index():\n",
    "    return 'Hello'\n",
    "\n",
    "\n",
    "@app.route('/book')\n",
    "def get_bookName():\n",
    "    return [\"book\": \"book_data\"]"
   ]
  }
 ],
 "metadata": {
  "kernelspec": {
   "display_name": "Python 3 (ipykernel)",
   "language": "python",
   "name": "python3"
  },
  "language_info": {
   "codemirror_mode": {
    "name": "ipython",
    "version": 3
   },
   "file_extension": ".py",
   "mimetype": "text/x-python",
   "name": "python",
   "nbconvert_exporter": "python",
   "pygments_lexer": "ipython3",
   "version": "3.9.13"
  }
 },
 "nbformat": 4,
 "nbformat_minor": 5
}
